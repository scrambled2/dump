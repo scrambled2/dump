{
  "nbformat": 4,
  "nbformat_minor": 0,
  "metadata": {
    "colab": {
      "provenance": []
    },
    "kernelspec": {
      "name": "python3",
      "display_name": "Python 3"
    },
    "language_info": {
      "name": "python"
    },
    "accelerator": "GPU",
    "gpuClass": "standard"
  },
  "cells": [
    {
      "cell_type": "code",
      "execution_count": 1,
      "metadata": {
        "id": "ASqlVyzvYeCQ"
      },
      "outputs": [],
      "source": [
        "#@title Setup Environment\n",
        "from IPython.display import clear_output, display\n",
        "!pip install deepface\n",
        "!pip install mtcnn\n",
        "\n",
        "import os\n",
        "import json\n",
        "from deepface import DeepFace\n",
        "from deepface.commons import functions\n",
        "from mtcnn.mtcnn import MTCNN\n",
        "clear_output()"
      ]
    },
    {
      "cell_type": "code",
      "source": [
        "from google.colab import drive\n",
        "drive.mount('/content/drive')\n"
      ],
      "metadata": {
        "id": "IC5GDG3E574a",
        "colab": {
          "base_uri": "https://localhost:8080/"
        },
        "outputId": "2c226869-8d37-4baa-9ea2-c1d807697708"
      },
      "execution_count": 2,
      "outputs": [
        {
          "output_type": "stream",
          "name": "stdout",
          "text": [
            "Mounted at /content/drive\n"
          ]
        }
      ]
    },
    {
      "cell_type": "code",
      "source": [
        "images_path = \"/content/imgs\" #@param {type:\"string\"}\n",
        "\n",
        "def output_img_atts(img_atts: list, image_path: str):\n",
        "    if not os.path.isdir(image_path):\n",
        "        image_path = image_path.rsplit(\"/\", 1)[0]\n",
        "    output_file_path = os.path.join(image_path, \"face_analysis.json\")\n",
        "    with open(output_file_path, 'w') as f:\n",
        "        json.dump(img_atts, f)\n",
        "\n",
        "def analyze_faces(image_path: str):\n",
        "    img_exts = [\"png\", \"jpg\", \"jpeg\"]\n",
        "    img_atts = []\n",
        "    actions = ['age', 'gender', 'race', 'emotion']\n",
        "    detector_backend = 'mtcnn'\n",
        "\n",
        "    if os.path.isdir(image_path):\n",
        "        for root, dirs, files in os.walk(image_path):\n",
        "            images = [f for f in files if f.split(\".\")[-1].lower() in img_exts]\n",
        "            images = [os.path.join(root, i) for i in images]\n",
        "\n",
        "            for image_path in images:\n",
        "                try:\n",
        "                    faces = functions.extract_faces(image_path, detector_backend=detector_backend)\n",
        "                    if len(faces) > 0:\n",
        "                        face_img = faces[0]  # Assuming only one face per image\n",
        "                        if face_img.shape[0] > 0 and face_img.shape[1] > 0:\n",
        "                            objs = DeepFace.analyze(face_img, actions=actions, enforce_detection=False)\n",
        "                            for i in range(len(objs)):\n",
        "                                objs[i][\"image_path\"] = image_path\n",
        "                            img_atts.extend(objs)\n",
        "                            print(f\"Image: {image_path}\")\n",
        "                            print(f\"Attributes: {objs}\")\n",
        "                            print(\"\\n\")\n",
        "                except Exception as e:\n",
        "                    print(f\"Error processing image: {image_path}\")\n",
        "                    print(f\"Error: {e}\")\n",
        "                    print(\"\\n\")\n",
        "    else:\n",
        "        try:\n",
        "            faces = functions.extract_faces(image_path, detector_backend=detector_backend)\n",
        "            if len(faces) > 0:\n",
        "                face_img = faces[0]  # Assuming only one face per image\n",
        "                if face_img.shape[0] > 0 and face_img.shape[1] > 0:\n",
        "                    objs = DeepFace.analyze(face_img, actions=actions, enforce_detection=False)\n",
        "                    for i in range(len(objs)):\n",
        "                        objs[i][\"image_path\"] = image_path\n",
        "                    img_atts.extend(objs)\n",
        "                    print(f\"Image: {image_path}\")\n",
        "                    print(f\"Attributes: {objs}\")\n",
        "                    print(\"\\n\")\n",
        "        except Exception as e:\n",
        "            print(f\"Error processing image: {image_path}\")\n",
        "            print(f\"Error: {e}\")\n",
        "            print(\"\\n\")\n",
        "\n",
        "    output_img_atts(img_atts, image_path)\n",
        "    return img_atts\n",
        "\n",
        "img_atts = analyze_faces(images_path)\n",
        "\n",
        "\n"
      ],
      "metadata": {
        "id": "VDKxj1CYZDVs",
        "cellView": "form"
      },
      "execution_count": null,
      "outputs": []
    },
    {
      "cell_type": "code",
      "source": [
        "images_path = \"/content/drive/MyDrive/AI/CURATED_DATASETS/FFHQ/test\" #@param {type:\"string\"}\n",
        "actions = ['age', 'gender',' race', 'emotion'] #@param {type:\"raw\"}\n",
        "detector_backend = \"retinaface\" #@param [\"opencv\", \"retinaface\", \"mtcnn\", \"ssd\", \"dlip\", \"mediapipe\"]\n",
        "if not detector_backend:\n",
        "  detector_backend = \"opencv\" \n",
        "IMG_EXTS = [\"png\", \"jpg\", \"jpeg\"]\n",
        "\n",
        "def get_image_paths(image_path: str) -> list:\n",
        "    if os.path.isdir(image_path):\n",
        "        images = []\n",
        "        for root, dirs, files in os.walk(image_path):\n",
        "            for file_name in files:\n",
        "                if file_name.split(\".\")[-1].lower() in IMG_EXTS:\n",
        "                    image_path = os.path.join(root, file_name)\n",
        "                    images.append(image_path)\n",
        "    else:\n",
        "        images = [image_path]\n",
        "    return images\n",
        "\n",
        "def output_img_atts(img_atts: list, image_path: str):\n",
        "    if not os.path.isdir(image_path):\n",
        "        image_path = image_path.rsplit(\"/\", 1)[0]\n",
        "    output_file_path = os.path.join(image_path, \"face_analysis.json\")\n",
        "    with open(output_file_path, 'w') as f:\n",
        "        json.dump(img_atts, f)\n",
        "\n",
        "def analyze_faces(input_image_path: str, actions: list, detector_backend: str):\n",
        "    img_atts = []\n",
        "    images = get_image_paths(input_image_path)\n",
        "\n",
        "    for image_path in images:\n",
        "        try:\n",
        "            objs = DeepFace.analyze(image_path, actions=actions, enforce_detection=True)\n",
        "        except Exception as e:\n",
        "            print(f\"No face detected for {image_path}\")\n",
        "            objs = [{\"face_detected\": False}]\n",
        "      \n",
        "        for i in range(len(objs)):\n",
        "            objs[i][\"image_path\"] = image_path\n",
        "            \n",
        "        img_atts.extend(objs)\n",
        "\n",
        "    output_img_atts(img_atts, input_image_path)\n",
        "    return img_atts\n",
        "\n",
        "img_atts = analyze_faces(images_path, actions, detector_backend)\n",
        "\n",
        "\n"
      ],
      "metadata": {
        "id": "TKScNOsAOszS",
        "colab": {
          "base_uri": "https://localhost:8080/"
        },
        "outputId": "6cc594da-283d-4d18-9353-33675ead81d0"
      },
      "execution_count": 4,
      "outputs": [
        {
          "output_type": "stream",
          "name": "stderr",
          "text": [
            "Action: emotion: 100%|██████████| 4/4 [00:00<00:00,  9.77it/s]\n",
            "Action: emotion: 100%|██████████| 4/4 [00:00<00:00, 11.50it/s]\n",
            "Action: emotion: 100%|██████████| 4/4 [00:00<00:00, 12.74it/s]\n",
            "Action: emotion: 100%|██████████| 4/4 [00:00<00:00, 10.21it/s]\n"
          ]
        }
      ]
    },
    {
      "cell_type": "code",
      "source": [],
      "metadata": {
        "id": "Lsa0cAO3npnE"
      },
      "execution_count": null,
      "outputs": []
    }
  ]
}